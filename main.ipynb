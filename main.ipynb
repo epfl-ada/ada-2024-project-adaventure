{
 "cells": [
  {
   "cell_type": "code",
   "execution_count": 71,
   "metadata": {},
   "outputs": [],
   "source": [
    "import pandas as pd\n",
    "import matplotlib.pyplot as plt\n",
    "import matplotlib.patches as mpatches\n",
    "from urllib.parse import unquote\n",
    "import numpy as np\n",
    "import os\n",
    "import seaborn as sns\n",
    "\n",
    "import networkx as nx"
   ]
  },
  {
   "cell_type": "markdown",
   "metadata": {},
   "source": [
    "### Reading data frames into dictionary"
   ]
  },
  {
   "cell_type": "code",
   "execution_count": 2,
   "metadata": {},
   "outputs": [],
   "source": [
    "def reading_filenames(input_dir):\n",
    "    files = [f for f in os.listdir(input_dir) if f.endswith('.tsv') or f.endswith('.txt')]\n",
    "\n",
    "    return files"
   ]
  },
  {
   "cell_type": "code",
   "execution_count": 3,
   "metadata": {},
   "outputs": [],
   "source": [
    "data_folder = 'data/wikispeedia_paths-and-graph/'\n",
    "file_names = reading_filenames(data_folder)"
   ]
  },
  {
   "cell_type": "code",
   "execution_count": 4,
   "metadata": {},
   "outputs": [
    {
     "name": "stdout",
     "output_type": "stream",
     "text": [
      "['shortest-path-distance-matrix.txt', 'paths_finished.tsv', 'articles.tsv', 'paths_unfinished.tsv', 'links.tsv', 'categories.tsv']\n"
     ]
    }
   ],
   "source": [
    "print(file_names)"
   ]
  },
  {
   "cell_type": "code",
   "execution_count": 5,
   "metadata": {},
   "outputs": [],
   "source": [
    "dataframes = {}\n",
    "\n",
    "#Reading files in dictionary\n",
    "for file in file_names:\n",
    "    try:\n",
    "        if file.endswith('.tsv'):\n",
    "            df = pd.read_csv(data_folder + file, sep='\\t', comment='#', header = None, encoding=\"utf-8\")\n",
    "        else:\n",
    "            df = pd.read_csv(data_folder + file, sep=',', comment='#', header = None, encoding=\"utf-8\")\n",
    "        \n",
    "        dataframes[file.split('.')[0]] = df\n",
    "    except pd.errors.ParserError as e:\n",
    "        print(f\"Could not parse {file}: {e}\")"
   ]
  },
  {
   "cell_type": "code",
   "execution_count": 6,
   "metadata": {},
   "outputs": [
    {
     "name": "stdout",
     "output_type": "stream",
     "text": [
      "dict_keys(['shortest-path-distance-matrix', 'paths_finished', 'articles', 'paths_unfinished', 'links', 'categories'])\n"
     ]
    }
   ],
   "source": [
    "print(dataframes.keys())"
   ]
  },
  {
   "cell_type": "markdown",
   "metadata": {},
   "source": [
    "### Links data\n",
    "Cleaning up link data"
   ]
  },
  {
   "cell_type": "code",
   "execution_count": 7,
   "metadata": {},
   "outputs": [],
   "source": [
    "dataframes['links'] = dataframes['links'].rename(columns={0: \"linkSource\", 1: \"linkTarget\"})"
   ]
  },
  {
   "cell_type": "code",
   "execution_count": 8,
   "metadata": {},
   "outputs": [],
   "source": [
    "dataframes[\"links\"][\"linkSource\"] = dataframes[\"links\"][\"linkSource\"].apply(unquote)\n",
    "dataframes[\"links\"][\"linkTarget\"] = dataframes[\"links\"][\"linkTarget\"].apply(unquote)"
   ]
  },
  {
   "cell_type": "code",
   "execution_count": 9,
   "metadata": {},
   "outputs": [
    {
     "data": {
      "text/html": [
       "<div>\n",
       "<style scoped>\n",
       "    .dataframe tbody tr th:only-of-type {\n",
       "        vertical-align: middle;\n",
       "    }\n",
       "\n",
       "    .dataframe tbody tr th {\n",
       "        vertical-align: top;\n",
       "    }\n",
       "\n",
       "    .dataframe thead th {\n",
       "        text-align: right;\n",
       "    }\n",
       "</style>\n",
       "<table border=\"1\" class=\"dataframe\">\n",
       "  <thead>\n",
       "    <tr style=\"text-align: right;\">\n",
       "      <th></th>\n",
       "      <th>linkSource</th>\n",
       "      <th>linkTarget</th>\n",
       "    </tr>\n",
       "  </thead>\n",
       "  <tbody>\n",
       "    <tr>\n",
       "      <th>0</th>\n",
       "      <td>Áedán_mac_Gabráin</td>\n",
       "      <td>Bede</td>\n",
       "    </tr>\n",
       "    <tr>\n",
       "      <th>1</th>\n",
       "      <td>Áedán_mac_Gabráin</td>\n",
       "      <td>Columba</td>\n",
       "    </tr>\n",
       "    <tr>\n",
       "      <th>2</th>\n",
       "      <td>Áedán_mac_Gabráin</td>\n",
       "      <td>Dál_Riata</td>\n",
       "    </tr>\n",
       "    <tr>\n",
       "      <th>3</th>\n",
       "      <td>Áedán_mac_Gabráin</td>\n",
       "      <td>Great_Britain</td>\n",
       "    </tr>\n",
       "    <tr>\n",
       "      <th>4</th>\n",
       "      <td>Áedán_mac_Gabráin</td>\n",
       "      <td>Ireland</td>\n",
       "    </tr>\n",
       "    <tr>\n",
       "      <th>5</th>\n",
       "      <td>Áedán_mac_Gabráin</td>\n",
       "      <td>Isle_of_Man</td>\n",
       "    </tr>\n",
       "    <tr>\n",
       "      <th>6</th>\n",
       "      <td>Áedán_mac_Gabráin</td>\n",
       "      <td>Monarchy</td>\n",
       "    </tr>\n",
       "    <tr>\n",
       "      <th>7</th>\n",
       "      <td>Áedán_mac_Gabráin</td>\n",
       "      <td>Orkney</td>\n",
       "    </tr>\n",
       "    <tr>\n",
       "      <th>8</th>\n",
       "      <td>Áedán_mac_Gabráin</td>\n",
       "      <td>Picts</td>\n",
       "    </tr>\n",
       "    <tr>\n",
       "      <th>9</th>\n",
       "      <td>Áedán_mac_Gabráin</td>\n",
       "      <td>Scotland</td>\n",
       "    </tr>\n",
       "  </tbody>\n",
       "</table>\n",
       "</div>"
      ],
      "text/plain": [
       "          linkSource     linkTarget\n",
       "0  Áedán_mac_Gabráin           Bede\n",
       "1  Áedán_mac_Gabráin        Columba\n",
       "2  Áedán_mac_Gabráin      Dál_Riata\n",
       "3  Áedán_mac_Gabráin  Great_Britain\n",
       "4  Áedán_mac_Gabráin        Ireland\n",
       "5  Áedán_mac_Gabráin    Isle_of_Man\n",
       "6  Áedán_mac_Gabráin       Monarchy\n",
       "7  Áedán_mac_Gabráin         Orkney\n",
       "8  Áedán_mac_Gabráin          Picts\n",
       "9  Áedán_mac_Gabráin       Scotland"
      ]
     },
     "execution_count": 9,
     "metadata": {},
     "output_type": "execute_result"
    }
   ],
   "source": [
    "dataframes['links'].head(10)"
   ]
  },
  {
   "cell_type": "markdown",
   "metadata": {},
   "source": [
    "### Categories data\n",
    "Cleaning up categories data"
   ]
  },
  {
   "cell_type": "code",
   "execution_count": 10,
   "metadata": {},
   "outputs": [],
   "source": [
    "#Renaming columns\n",
    "dataframes['categories'] = dataframes['categories'].rename(columns={0: \"article\", 1: \"category\"})"
   ]
  },
  {
   "cell_type": "code",
   "execution_count": 11,
   "metadata": {},
   "outputs": [],
   "source": [
    "#Decoding article names\n",
    "dataframes[\"categories\"][\"article\"] = dataframes[\"categories\"][\"article\"].apply(unquote)"
   ]
  },
  {
   "cell_type": "code",
   "execution_count": 12,
   "metadata": {},
   "outputs": [
    {
     "data": {
      "text/html": [
       "<div>\n",
       "<style scoped>\n",
       "    .dataframe tbody tr th:only-of-type {\n",
       "        vertical-align: middle;\n",
       "    }\n",
       "\n",
       "    .dataframe tbody tr th {\n",
       "        vertical-align: top;\n",
       "    }\n",
       "\n",
       "    .dataframe thead th {\n",
       "        text-align: right;\n",
       "    }\n",
       "</style>\n",
       "<table border=\"1\" class=\"dataframe\">\n",
       "  <thead>\n",
       "    <tr style=\"text-align: right;\">\n",
       "      <th></th>\n",
       "      <th>1</th>\n",
       "      <th>2</th>\n",
       "      <th>3</th>\n",
       "    </tr>\n",
       "  </thead>\n",
       "  <tbody>\n",
       "    <tr>\n",
       "      <th>0</th>\n",
       "      <td>History</td>\n",
       "      <td>British_History</td>\n",
       "      <td>British_History_1500_and_before_including_Roma...</td>\n",
       "    </tr>\n",
       "    <tr>\n",
       "      <th>1</th>\n",
       "      <td>People</td>\n",
       "      <td>Historical_figures</td>\n",
       "      <td>None</td>\n",
       "    </tr>\n",
       "    <tr>\n",
       "      <th>2</th>\n",
       "      <td>Countries</td>\n",
       "      <td>None</td>\n",
       "      <td>None</td>\n",
       "    </tr>\n",
       "    <tr>\n",
       "      <th>3</th>\n",
       "      <td>Geography</td>\n",
       "      <td>European_Geography</td>\n",
       "      <td>European_Countries</td>\n",
       "    </tr>\n",
       "    <tr>\n",
       "      <th>4</th>\n",
       "      <td>People</td>\n",
       "      <td>Artists</td>\n",
       "      <td>None</td>\n",
       "    </tr>\n",
       "  </tbody>\n",
       "</table>\n",
       "</div>"
      ],
      "text/plain": [
       "           1                   2  \\\n",
       "0    History     British_History   \n",
       "1     People  Historical_figures   \n",
       "2  Countries                None   \n",
       "3  Geography  European_Geography   \n",
       "4     People             Artists   \n",
       "\n",
       "                                                   3  \n",
       "0  British_History_1500_and_before_including_Roma...  \n",
       "1                                               None  \n",
       "2                                               None  \n",
       "3                                 European_Countries  \n",
       "4                                               None  "
      ]
     },
     "execution_count": 12,
     "metadata": {},
     "output_type": "execute_result"
    }
   ],
   "source": [
    "#Splitting categories into sub categories\n",
    "split_columns = dataframes[\"categories\"]['category'].str.split('.', expand=True)\n",
    "\n",
    "#Dropping first column which only contains the word subject\n",
    "split_columns = split_columns.drop(0, axis=1)\n",
    "split_columns.head()\n"
   ]
  },
  {
   "cell_type": "code",
   "execution_count": 13,
   "metadata": {},
   "outputs": [],
   "source": [
    "#Joining with original dataframe\n",
    "dataframes[\"categories\"] = dataframes[\"categories\"].join(split_columns)"
   ]
  },
  {
   "cell_type": "code",
   "execution_count": 14,
   "metadata": {},
   "outputs": [
    {
     "data": {
      "text/html": [
       "<div>\n",
       "<style scoped>\n",
       "    .dataframe tbody tr th:only-of-type {\n",
       "        vertical-align: middle;\n",
       "    }\n",
       "\n",
       "    .dataframe tbody tr th {\n",
       "        vertical-align: top;\n",
       "    }\n",
       "\n",
       "    .dataframe thead th {\n",
       "        text-align: right;\n",
       "    }\n",
       "</style>\n",
       "<table border=\"1\" class=\"dataframe\">\n",
       "  <thead>\n",
       "    <tr style=\"text-align: right;\">\n",
       "      <th></th>\n",
       "      <th>article</th>\n",
       "      <th>category</th>\n",
       "      <th>1</th>\n",
       "      <th>2</th>\n",
       "      <th>3</th>\n",
       "    </tr>\n",
       "  </thead>\n",
       "  <tbody>\n",
       "    <tr>\n",
       "      <th>0</th>\n",
       "      <td>Áedán_mac_Gabráin</td>\n",
       "      <td>subject.History.British_History.British_Histor...</td>\n",
       "      <td>History</td>\n",
       "      <td>British_History</td>\n",
       "      <td>British_History_1500_and_before_including_Roma...</td>\n",
       "    </tr>\n",
       "    <tr>\n",
       "      <th>1</th>\n",
       "      <td>Áedán_mac_Gabráin</td>\n",
       "      <td>subject.People.Historical_figures</td>\n",
       "      <td>People</td>\n",
       "      <td>Historical_figures</td>\n",
       "      <td>None</td>\n",
       "    </tr>\n",
       "    <tr>\n",
       "      <th>2</th>\n",
       "      <td>Åland</td>\n",
       "      <td>subject.Countries</td>\n",
       "      <td>Countries</td>\n",
       "      <td>None</td>\n",
       "      <td>None</td>\n",
       "    </tr>\n",
       "    <tr>\n",
       "      <th>3</th>\n",
       "      <td>Åland</td>\n",
       "      <td>subject.Geography.European_Geography.European_...</td>\n",
       "      <td>Geography</td>\n",
       "      <td>European_Geography</td>\n",
       "      <td>European_Countries</td>\n",
       "    </tr>\n",
       "    <tr>\n",
       "      <th>4</th>\n",
       "      <td>Édouard_Manet</td>\n",
       "      <td>subject.People.Artists</td>\n",
       "      <td>People</td>\n",
       "      <td>Artists</td>\n",
       "      <td>None</td>\n",
       "    </tr>\n",
       "    <tr>\n",
       "      <th>5</th>\n",
       "      <td>Éire</td>\n",
       "      <td>subject.Countries</td>\n",
       "      <td>Countries</td>\n",
       "      <td>None</td>\n",
       "      <td>None</td>\n",
       "    </tr>\n",
       "    <tr>\n",
       "      <th>6</th>\n",
       "      <td>Éire</td>\n",
       "      <td>subject.Geography.European_Geography.European_...</td>\n",
       "      <td>Geography</td>\n",
       "      <td>European_Geography</td>\n",
       "      <td>European_Countries</td>\n",
       "    </tr>\n",
       "    <tr>\n",
       "      <th>7</th>\n",
       "      <td>Óengus_I_of_the_Picts</td>\n",
       "      <td>subject.History.British_History.British_Histor...</td>\n",
       "      <td>History</td>\n",
       "      <td>British_History</td>\n",
       "      <td>British_History_1500_and_before_including_Roma...</td>\n",
       "    </tr>\n",
       "    <tr>\n",
       "      <th>8</th>\n",
       "      <td>Óengus_I_of_the_Picts</td>\n",
       "      <td>subject.People.Historical_figures</td>\n",
       "      <td>People</td>\n",
       "      <td>Historical_figures</td>\n",
       "      <td>None</td>\n",
       "    </tr>\n",
       "    <tr>\n",
       "      <th>9</th>\n",
       "      <td>€2_commemorative_coins</td>\n",
       "      <td>subject.Business_Studies.Currency</td>\n",
       "      <td>Business_Studies</td>\n",
       "      <td>Currency</td>\n",
       "      <td>None</td>\n",
       "    </tr>\n",
       "  </tbody>\n",
       "</table>\n",
       "</div>"
      ],
      "text/plain": [
       "                  article                                           category  \\\n",
       "0       Áedán_mac_Gabráin  subject.History.British_History.British_Histor...   \n",
       "1       Áedán_mac_Gabráin                  subject.People.Historical_figures   \n",
       "2                   Åland                                  subject.Countries   \n",
       "3                   Åland  subject.Geography.European_Geography.European_...   \n",
       "4           Édouard_Manet                             subject.People.Artists   \n",
       "5                    Éire                                  subject.Countries   \n",
       "6                    Éire  subject.Geography.European_Geography.European_...   \n",
       "7   Óengus_I_of_the_Picts  subject.History.British_History.British_Histor...   \n",
       "8   Óengus_I_of_the_Picts                  subject.People.Historical_figures   \n",
       "9  €2_commemorative_coins                  subject.Business_Studies.Currency   \n",
       "\n",
       "                  1                   2  \\\n",
       "0           History     British_History   \n",
       "1            People  Historical_figures   \n",
       "2         Countries                None   \n",
       "3         Geography  European_Geography   \n",
       "4            People             Artists   \n",
       "5         Countries                None   \n",
       "6         Geography  European_Geography   \n",
       "7           History     British_History   \n",
       "8            People  Historical_figures   \n",
       "9  Business_Studies            Currency   \n",
       "\n",
       "                                                   3  \n",
       "0  British_History_1500_and_before_including_Roma...  \n",
       "1                                               None  \n",
       "2                                               None  \n",
       "3                                 European_Countries  \n",
       "4                                               None  \n",
       "5                                               None  \n",
       "6                                 European_Countries  \n",
       "7  British_History_1500_and_before_including_Roma...  \n",
       "8                                               None  \n",
       "9                                               None  "
      ]
     },
     "execution_count": 14,
     "metadata": {},
     "output_type": "execute_result"
    }
   ],
   "source": [
    "dataframes[\"categories\"].head(10)"
   ]
  },
  {
   "cell_type": "code",
   "execution_count": 15,
   "metadata": {},
   "outputs": [
    {
     "name": "stdout",
     "output_type": "stream",
     "text": [
      "['Art' 'Business_Studies' 'Citizenship' 'Countries'\n",
      " 'Design_and_Technology' 'Everyday_life' 'Geography' 'History' 'IT'\n",
      " 'Language_and_literature' 'Mathematics' 'Music' 'People' 'Religion'\n",
      " 'Science']\n"
     ]
    }
   ],
   "source": [
    "categories_ha = np.unique(dataframes[\"categories\"][1])\n",
    "print(categories_ha)"
   ]
  },
  {
   "cell_type": "markdown",
   "metadata": {},
   "source": [
    "### Cleaning up articles data"
   ]
  },
  {
   "cell_type": "code",
   "execution_count": 16,
   "metadata": {},
   "outputs": [
    {
     "data": {
      "text/html": [
       "<div>\n",
       "<style scoped>\n",
       "    .dataframe tbody tr th:only-of-type {\n",
       "        vertical-align: middle;\n",
       "    }\n",
       "\n",
       "    .dataframe tbody tr th {\n",
       "        vertical-align: top;\n",
       "    }\n",
       "\n",
       "    .dataframe thead th {\n",
       "        text-align: right;\n",
       "    }\n",
       "</style>\n",
       "<table border=\"1\" class=\"dataframe\">\n",
       "  <thead>\n",
       "    <tr style=\"text-align: right;\">\n",
       "      <th></th>\n",
       "      <th>0</th>\n",
       "    </tr>\n",
       "  </thead>\n",
       "  <tbody>\n",
       "    <tr>\n",
       "      <th>0</th>\n",
       "      <td>%C3%81ed%C3%A1n_mac_Gabr%C3%A1in</td>\n",
       "    </tr>\n",
       "    <tr>\n",
       "      <th>1</th>\n",
       "      <td>%C3%85land</td>\n",
       "    </tr>\n",
       "    <tr>\n",
       "      <th>2</th>\n",
       "      <td>%C3%89douard_Manet</td>\n",
       "    </tr>\n",
       "    <tr>\n",
       "      <th>3</th>\n",
       "      <td>%C3%89ire</td>\n",
       "    </tr>\n",
       "    <tr>\n",
       "      <th>4</th>\n",
       "      <td>%C3%93engus_I_of_the_Picts</td>\n",
       "    </tr>\n",
       "  </tbody>\n",
       "</table>\n",
       "</div>"
      ],
      "text/plain": [
       "                                  0\n",
       "0  %C3%81ed%C3%A1n_mac_Gabr%C3%A1in\n",
       "1                        %C3%85land\n",
       "2                %C3%89douard_Manet\n",
       "3                         %C3%89ire\n",
       "4        %C3%93engus_I_of_the_Picts"
      ]
     },
     "execution_count": 16,
     "metadata": {},
     "output_type": "execute_result"
    }
   ],
   "source": [
    "dataframes[\"articles\"].head()"
   ]
  },
  {
   "cell_type": "code",
   "execution_count": 17,
   "metadata": {},
   "outputs": [],
   "source": [
    "#Renaming columns\n",
    "dataframes['articles'] = dataframes['articles'].rename(columns={0: \"article_name\",})"
   ]
  },
  {
   "cell_type": "code",
   "execution_count": 18,
   "metadata": {},
   "outputs": [],
   "source": [
    "dataframes[\"articles\"][\"article_name\"] = dataframes[\"articles\"][\"article_name\"].apply(unquote)"
   ]
  },
  {
   "cell_type": "code",
   "execution_count": 19,
   "metadata": {},
   "outputs": [
    {
     "data": {
      "text/html": [
       "<div>\n",
       "<style scoped>\n",
       "    .dataframe tbody tr th:only-of-type {\n",
       "        vertical-align: middle;\n",
       "    }\n",
       "\n",
       "    .dataframe tbody tr th {\n",
       "        vertical-align: top;\n",
       "    }\n",
       "\n",
       "    .dataframe thead th {\n",
       "        text-align: right;\n",
       "    }\n",
       "</style>\n",
       "<table border=\"1\" class=\"dataframe\">\n",
       "  <thead>\n",
       "    <tr style=\"text-align: right;\">\n",
       "      <th></th>\n",
       "      <th>article_name</th>\n",
       "    </tr>\n",
       "  </thead>\n",
       "  <tbody>\n",
       "    <tr>\n",
       "      <th>0</th>\n",
       "      <td>Áedán_mac_Gabráin</td>\n",
       "    </tr>\n",
       "    <tr>\n",
       "      <th>1</th>\n",
       "      <td>Åland</td>\n",
       "    </tr>\n",
       "    <tr>\n",
       "      <th>2</th>\n",
       "      <td>Édouard_Manet</td>\n",
       "    </tr>\n",
       "    <tr>\n",
       "      <th>3</th>\n",
       "      <td>Éire</td>\n",
       "    </tr>\n",
       "    <tr>\n",
       "      <th>4</th>\n",
       "      <td>Óengus_I_of_the_Picts</td>\n",
       "    </tr>\n",
       "  </tbody>\n",
       "</table>\n",
       "</div>"
      ],
      "text/plain": [
       "            article_name\n",
       "0      Áedán_mac_Gabráin\n",
       "1                  Åland\n",
       "2          Édouard_Manet\n",
       "3                   Éire\n",
       "4  Óengus_I_of_the_Picts"
      ]
     },
     "execution_count": 19,
     "metadata": {},
     "output_type": "execute_result"
    }
   ],
   "source": [
    "dataframes[\"articles\"].head()"
   ]
  },
  {
   "cell_type": "markdown",
   "metadata": {},
   "source": [
    "### Cleaning up shortest path data"
   ]
  },
  {
   "cell_type": "code",
   "execution_count": 20,
   "metadata": {},
   "outputs": [
    {
     "data": {
      "text/html": [
       "<div>\n",
       "<style scoped>\n",
       "    .dataframe tbody tr th:only-of-type {\n",
       "        vertical-align: middle;\n",
       "    }\n",
       "\n",
       "    .dataframe tbody tr th {\n",
       "        vertical-align: top;\n",
       "    }\n",
       "\n",
       "    .dataframe thead th {\n",
       "        text-align: right;\n",
       "    }\n",
       "</style>\n",
       "<table border=\"1\" class=\"dataframe\">\n",
       "  <thead>\n",
       "    <tr style=\"text-align: right;\">\n",
       "      <th></th>\n",
       "      <th>0</th>\n",
       "    </tr>\n",
       "  </thead>\n",
       "  <tbody>\n",
       "    <tr>\n",
       "      <th>0</th>\n",
       "      <td>0_____33333325634333435_2433544334_3_422343544...</td>\n",
       "    </tr>\n",
       "    <tr>\n",
       "      <th>1</th>\n",
       "      <td>_0____22222325623232424_2422544324_3_312242544...</td>\n",
       "    </tr>\n",
       "    <tr>\n",
       "      <th>2</th>\n",
       "      <td>__0___33222425623232324_2333444433_3_422343434...</td>\n",
       "    </tr>\n",
       "    <tr>\n",
       "      <th>3</th>\n",
       "      <td>___0__33333325634233334_2433434333_2_423343433...</td>\n",
       "    </tr>\n",
       "    <tr>\n",
       "      <th>4</th>\n",
       "      <td>____0_22323335633332435_2433545434_3_423343544...</td>\n",
       "    </tr>\n",
       "  </tbody>\n",
       "</table>\n",
       "</div>"
      ],
      "text/plain": [
       "                                                   0\n",
       "0  0_____33333325634333435_2433544334_3_422343544...\n",
       "1  _0____22222325623232424_2422544324_3_312242544...\n",
       "2  __0___33222425623232324_2333444433_3_422343434...\n",
       "3  ___0__33333325634233334_2433434333_2_423343433...\n",
       "4  ____0_22323335633332435_2433545434_3_423343544..."
      ]
     },
     "execution_count": 20,
     "metadata": {},
     "output_type": "execute_result"
    }
   ],
   "source": [
    "dataframes['shortest-path-distance-matrix'].head()"
   ]
  },
  {
   "cell_type": "code",
   "execution_count": 21,
   "metadata": {},
   "outputs": [],
   "source": [
    "def convert_string_to_int(cell):\n",
    "\n",
    "    return [int(char) if char.isdigit() else np.nan for char in cell]\n",
    "    \n",
    "# Apply the function to each cell, expand each string into separate columns\n",
    "df_shortest_path = dataframes['shortest-path-distance-matrix'][0].apply(convert_string_to_int)"
   ]
  },
  {
   "cell_type": "code",
   "execution_count": 22,
   "metadata": {},
   "outputs": [
    {
     "data": {
      "text/plain": [
       "0    [0, nan, nan, nan, nan, nan, 3, 3, 3, 3, 3, 3,...\n",
       "1    [nan, 0, nan, nan, nan, nan, 2, 2, 2, 2, 2, 3,...\n",
       "2    [nan, nan, 0, nan, nan, nan, 3, 3, 2, 2, 2, 4,...\n",
       "3    [nan, nan, nan, 0, nan, nan, 3, 3, 3, 3, 3, 3,...\n",
       "4    [nan, nan, nan, nan, 0, nan, 2, 2, 3, 2, 3, 3,...\n",
       "Name: 0, dtype: object"
      ]
     },
     "execution_count": 22,
     "metadata": {},
     "output_type": "execute_result"
    }
   ],
   "source": [
    "df_shortest_path.head()"
   ]
  },
  {
   "cell_type": "markdown",
   "metadata": {},
   "source": [
    "### Cleaning up paths finished data\n",
    "Has anyone code for this?"
   ]
  },
  {
   "cell_type": "markdown",
   "metadata": {},
   "source": [
    "### Cleaning up paths unfinished data\n",
    "Has anyone code for this?"
   ]
  },
  {
   "cell_type": "markdown",
   "metadata": {},
   "source": [
    "### Creating \"Hubs\" data frame \n",
    "Where each article is and has: \n",
    "1. The number of links from them \n",
    "2. The number of links to them \n",
    "3. The average shortest path to them \n",
    "4. The average shortest path from them \n",
    "5. Their main subject or main subjects if they have more than one\n"
   ]
  },
  {
   "cell_type": "code",
   "execution_count": 23,
   "metadata": {},
   "outputs": [],
   "source": [
    "df_hubs = pd.DataFrame()\n",
    "df_hubs[\"article_names\"] = dataframes[\"articles\"][\"article_name\"]"
   ]
  },
  {
   "cell_type": "code",
   "execution_count": 24,
   "metadata": {},
   "outputs": [],
   "source": [
    "#Printing wikipages with most links\n",
    "source_counts = dataframes[\"links\"]['linkSource'].value_counts()\n",
    "df_hubs[\"source_counts\"] = df_hubs[\"article_names\"].map(source_counts).fillna(0).astype(int)\n",
    "\n",
    "target_counts = dataframes[\"links\"]['linkTarget'].value_counts()\n",
    "df_hubs[\"target_counts\"] = df_hubs[\"article_names\"].map(target_counts).fillna(0).astype(int)"
   ]
  },
  {
   "cell_type": "code",
   "execution_count": 25,
   "metadata": {},
   "outputs": [],
   "source": [
    "#Adding average shortest path distance\n",
    "def count_mean(row):\n",
    "    return np.nanmean(row)\n",
    "\n",
    "#Counting nan values \n",
    "def count_nans_in_list(row):\n",
    "    return sum(pd.isna(item) for item in row)\n",
    "\n",
    "#Count specific number\n",
    "def count_distance_in_list(row, distance = 1):\n",
    "    return sum(item == distance for item in row)"
   ]
  },
  {
   "cell_type": "code",
   "execution_count": 26,
   "metadata": {},
   "outputs": [],
   "source": [
    "#Mean taking nan values into account\n",
    "df_shortest_path_mean =  df_shortest_path.apply(count_mean)"
   ]
  },
  {
   "cell_type": "code",
   "execution_count": 27,
   "metadata": {},
   "outputs": [],
   "source": [
    "df_hubs[\"mean_shortest_path\"] = df_shortest_path_mean"
   ]
  },
  {
   "cell_type": "code",
   "execution_count": 28,
   "metadata": {},
   "outputs": [
    {
     "data": {
      "text/html": [
       "<div>\n",
       "<style scoped>\n",
       "    .dataframe tbody tr th:only-of-type {\n",
       "        vertical-align: middle;\n",
       "    }\n",
       "\n",
       "    .dataframe tbody tr th {\n",
       "        vertical-align: top;\n",
       "    }\n",
       "\n",
       "    .dataframe thead th {\n",
       "        text-align: right;\n",
       "    }\n",
       "</style>\n",
       "<table border=\"1\" class=\"dataframe\">\n",
       "  <thead>\n",
       "    <tr style=\"text-align: right;\">\n",
       "      <th></th>\n",
       "      <th>article_names</th>\n",
       "      <th>source_counts</th>\n",
       "      <th>target_counts</th>\n",
       "      <th>mean_shortest_path</th>\n",
       "    </tr>\n",
       "  </thead>\n",
       "  <tbody>\n",
       "    <tr>\n",
       "      <th>0</th>\n",
       "      <td>Áedán_mac_Gabráin</td>\n",
       "      <td>11</td>\n",
       "      <td>0</td>\n",
       "      <td>3.395464</td>\n",
       "    </tr>\n",
       "    <tr>\n",
       "      <th>1</th>\n",
       "      <td>Åland</td>\n",
       "      <td>19</td>\n",
       "      <td>0</td>\n",
       "      <td>3.127959</td>\n",
       "    </tr>\n",
       "    <tr>\n",
       "      <th>2</th>\n",
       "      <td>Édouard_Manet</td>\n",
       "      <td>20</td>\n",
       "      <td>0</td>\n",
       "      <td>3.171598</td>\n",
       "    </tr>\n",
       "    <tr>\n",
       "      <th>3</th>\n",
       "      <td>Éire</td>\n",
       "      <td>8</td>\n",
       "      <td>0</td>\n",
       "      <td>3.325937</td>\n",
       "    </tr>\n",
       "    <tr>\n",
       "      <th>4</th>\n",
       "      <td>Óengus_I_of_the_Picts</td>\n",
       "      <td>10</td>\n",
       "      <td>0</td>\n",
       "      <td>3.386834</td>\n",
       "    </tr>\n",
       "  </tbody>\n",
       "</table>\n",
       "</div>"
      ],
      "text/plain": [
       "           article_names  source_counts  target_counts  mean_shortest_path\n",
       "0      Áedán_mac_Gabráin             11              0            3.395464\n",
       "1                  Åland             19              0            3.127959\n",
       "2          Édouard_Manet             20              0            3.171598\n",
       "3                   Éire              8              0            3.325937\n",
       "4  Óengus_I_of_the_Picts             10              0            3.386834"
      ]
     },
     "execution_count": 28,
     "metadata": {},
     "output_type": "execute_result"
    }
   ],
   "source": [
    "df_hubs.head()"
   ]
  },
  {
   "cell_type": "code",
   "execution_count": 29,
   "metadata": {},
   "outputs": [],
   "source": [
    "#I think some of the articles with almost no shortest path are only connected with 1 other article\n",
    "#df_hubs[\"nan_count\"] = df_shortest_path.apply(count_nans_in_list)\n",
    "#df_hubs[\"one_count\"] = df_shortest_path.apply(count_distance_in_list)"
   ]
  },
  {
   "cell_type": "code",
   "execution_count": 30,
   "metadata": {},
   "outputs": [
    {
     "data": {
      "text/html": [
       "<div>\n",
       "<style scoped>\n",
       "    .dataframe tbody tr th:only-of-type {\n",
       "        vertical-align: middle;\n",
       "    }\n",
       "\n",
       "    .dataframe tbody tr th {\n",
       "        vertical-align: top;\n",
       "    }\n",
       "\n",
       "    .dataframe thead th {\n",
       "        text-align: right;\n",
       "    }\n",
       "</style>\n",
       "<table border=\"1\" class=\"dataframe\">\n",
       "  <thead>\n",
       "    <tr style=\"text-align: right;\">\n",
       "      <th></th>\n",
       "      <th>article_names</th>\n",
       "      <th>source_counts</th>\n",
       "      <th>target_counts</th>\n",
       "      <th>mean_shortest_path</th>\n",
       "    </tr>\n",
       "  </thead>\n",
       "  <tbody>\n",
       "    <tr>\n",
       "      <th>0</th>\n",
       "      <td>Áedán_mac_Gabráin</td>\n",
       "      <td>11</td>\n",
       "      <td>0</td>\n",
       "      <td>3.395464</td>\n",
       "    </tr>\n",
       "    <tr>\n",
       "      <th>1</th>\n",
       "      <td>Åland</td>\n",
       "      <td>19</td>\n",
       "      <td>0</td>\n",
       "      <td>3.127959</td>\n",
       "    </tr>\n",
       "    <tr>\n",
       "      <th>2</th>\n",
       "      <td>Édouard_Manet</td>\n",
       "      <td>20</td>\n",
       "      <td>0</td>\n",
       "      <td>3.171598</td>\n",
       "    </tr>\n",
       "    <tr>\n",
       "      <th>3</th>\n",
       "      <td>Éire</td>\n",
       "      <td>8</td>\n",
       "      <td>0</td>\n",
       "      <td>3.325937</td>\n",
       "    </tr>\n",
       "    <tr>\n",
       "      <th>4</th>\n",
       "      <td>Óengus_I_of_the_Picts</td>\n",
       "      <td>10</td>\n",
       "      <td>0</td>\n",
       "      <td>3.386834</td>\n",
       "    </tr>\n",
       "  </tbody>\n",
       "</table>\n",
       "</div>"
      ],
      "text/plain": [
       "           article_names  source_counts  target_counts  mean_shortest_path\n",
       "0      Áedán_mac_Gabráin             11              0            3.395464\n",
       "1                  Åland             19              0            3.127959\n",
       "2          Édouard_Manet             20              0            3.171598\n",
       "3                   Éire              8              0            3.325937\n",
       "4  Óengus_I_of_the_Picts             10              0            3.386834"
      ]
     },
     "execution_count": 30,
     "metadata": {},
     "output_type": "execute_result"
    }
   ],
   "source": [
    "df_hubs.head()"
   ]
  },
  {
   "cell_type": "code",
   "execution_count": 31,
   "metadata": {},
   "outputs": [
    {
     "name": "stdout",
     "output_type": "stream",
     "text": [
      "5204\n",
      "4604\n"
     ]
    }
   ],
   "source": [
    "#Some articles belong to more than 1 category\n",
    "print(len(dataframes[\"categories\"]))\n",
    "print(len(dataframes[\"articles\"]))\n"
   ]
  },
  {
   "cell_type": "code",
   "execution_count": 36,
   "metadata": {},
   "outputs": [
    {
     "name": "stdout",
     "output_type": "stream",
     "text": [
      "['Art' 'Business_Studies' 'Citizenship' 'Countries'\n",
      " 'Design_and_Technology' 'Everyday_life' 'Geography' 'History' 'IT'\n",
      " 'Language_and_literature' 'Mathematics' 'Music' 'People' 'Religion'\n",
      " 'Science']\n"
     ]
    }
   ],
   "source": [
    "#Adding subjects to articles\n",
    "categories = np.unique(dataframes[\"categories\"][1])\n",
    "print(categories)"
   ]
  },
  {
   "cell_type": "code",
   "execution_count": 46,
   "metadata": {},
   "outputs": [
    {
     "data": {
      "text/html": [
       "<div>\n",
       "<style scoped>\n",
       "    .dataframe tbody tr th:only-of-type {\n",
       "        vertical-align: middle;\n",
       "    }\n",
       "\n",
       "    .dataframe tbody tr th {\n",
       "        vertical-align: top;\n",
       "    }\n",
       "\n",
       "    .dataframe thead th {\n",
       "        text-align: right;\n",
       "    }\n",
       "</style>\n",
       "<table border=\"1\" class=\"dataframe\">\n",
       "  <thead>\n",
       "    <tr style=\"text-align: right;\">\n",
       "      <th></th>\n",
       "      <th>article_names</th>\n",
       "      <th>source_counts</th>\n",
       "      <th>target_counts</th>\n",
       "      <th>mean_shortest_path</th>\n",
       "      <th>Art</th>\n",
       "      <th>Business_Studies</th>\n",
       "      <th>Citizenship</th>\n",
       "      <th>Countries</th>\n",
       "      <th>Design_and_Technology</th>\n",
       "      <th>Everyday_life</th>\n",
       "      <th>Geography</th>\n",
       "      <th>History</th>\n",
       "      <th>IT</th>\n",
       "      <th>Language_and_literature</th>\n",
       "      <th>Mathematics</th>\n",
       "      <th>Music</th>\n",
       "      <th>People</th>\n",
       "      <th>Religion</th>\n",
       "      <th>Science</th>\n",
       "    </tr>\n",
       "  </thead>\n",
       "  <tbody>\n",
       "    <tr>\n",
       "      <th>0</th>\n",
       "      <td>Áedán_mac_Gabráin</td>\n",
       "      <td>11</td>\n",
       "      <td>0</td>\n",
       "      <td>3.395464</td>\n",
       "      <td>NaN</td>\n",
       "      <td>NaN</td>\n",
       "      <td>NaN</td>\n",
       "      <td>NaN</td>\n",
       "      <td>NaN</td>\n",
       "      <td>NaN</td>\n",
       "      <td>NaN</td>\n",
       "      <td>NaN</td>\n",
       "      <td>NaN</td>\n",
       "      <td>NaN</td>\n",
       "      <td>NaN</td>\n",
       "      <td>NaN</td>\n",
       "      <td>NaN</td>\n",
       "      <td>NaN</td>\n",
       "      <td>NaN</td>\n",
       "    </tr>\n",
       "    <tr>\n",
       "      <th>1</th>\n",
       "      <td>Åland</td>\n",
       "      <td>19</td>\n",
       "      <td>0</td>\n",
       "      <td>3.127959</td>\n",
       "      <td>0.0</td>\n",
       "      <td>0.0</td>\n",
       "      <td>0.0</td>\n",
       "      <td>1.0</td>\n",
       "      <td>0.0</td>\n",
       "      <td>0.0</td>\n",
       "      <td>1.0</td>\n",
       "      <td>1.0</td>\n",
       "      <td>0.0</td>\n",
       "      <td>1.0</td>\n",
       "      <td>0.0</td>\n",
       "      <td>0.0</td>\n",
       "      <td>1.0</td>\n",
       "      <td>0.0</td>\n",
       "      <td>1.0</td>\n",
       "    </tr>\n",
       "    <tr>\n",
       "      <th>2</th>\n",
       "      <td>Édouard_Manet</td>\n",
       "      <td>20</td>\n",
       "      <td>0</td>\n",
       "      <td>3.171598</td>\n",
       "      <td>0.0</td>\n",
       "      <td>0.0</td>\n",
       "      <td>0.0</td>\n",
       "      <td>0.0</td>\n",
       "      <td>0.0</td>\n",
       "      <td>0.0</td>\n",
       "      <td>0.0</td>\n",
       "      <td>0.0</td>\n",
       "      <td>0.0</td>\n",
       "      <td>0.0</td>\n",
       "      <td>0.0</td>\n",
       "      <td>0.0</td>\n",
       "      <td>0.0</td>\n",
       "      <td>0.0</td>\n",
       "      <td>0.0</td>\n",
       "    </tr>\n",
       "    <tr>\n",
       "      <th>3</th>\n",
       "      <td>Éire</td>\n",
       "      <td>8</td>\n",
       "      <td>0</td>\n",
       "      <td>3.325937</td>\n",
       "      <td>0.0</td>\n",
       "      <td>0.0</td>\n",
       "      <td>0.0</td>\n",
       "      <td>0.0</td>\n",
       "      <td>0.0</td>\n",
       "      <td>0.0</td>\n",
       "      <td>0.0</td>\n",
       "      <td>0.0</td>\n",
       "      <td>0.0</td>\n",
       "      <td>0.0</td>\n",
       "      <td>0.0</td>\n",
       "      <td>0.0</td>\n",
       "      <td>0.0</td>\n",
       "      <td>0.0</td>\n",
       "      <td>0.0</td>\n",
       "    </tr>\n",
       "    <tr>\n",
       "      <th>4</th>\n",
       "      <td>Óengus_I_of_the_Picts</td>\n",
       "      <td>10</td>\n",
       "      <td>0</td>\n",
       "      <td>3.386834</td>\n",
       "      <td>NaN</td>\n",
       "      <td>NaN</td>\n",
       "      <td>NaN</td>\n",
       "      <td>NaN</td>\n",
       "      <td>NaN</td>\n",
       "      <td>NaN</td>\n",
       "      <td>NaN</td>\n",
       "      <td>NaN</td>\n",
       "      <td>NaN</td>\n",
       "      <td>NaN</td>\n",
       "      <td>NaN</td>\n",
       "      <td>NaN</td>\n",
       "      <td>NaN</td>\n",
       "      <td>NaN</td>\n",
       "      <td>NaN</td>\n",
       "    </tr>\n",
       "  </tbody>\n",
       "</table>\n",
       "</div>"
      ],
      "text/plain": [
       "           article_names  source_counts  target_counts  mean_shortest_path  \\\n",
       "0      Áedán_mac_Gabráin             11              0            3.395464   \n",
       "1                  Åland             19              0            3.127959   \n",
       "2          Édouard_Manet             20              0            3.171598   \n",
       "3                   Éire              8              0            3.325937   \n",
       "4  Óengus_I_of_the_Picts             10              0            3.386834   \n",
       "\n",
       "   Art  Business_Studies  Citizenship  Countries  Design_and_Technology  \\\n",
       "0  NaN               NaN          NaN        NaN                    NaN   \n",
       "1  0.0               0.0          0.0        1.0                    0.0   \n",
       "2  0.0               0.0          0.0        0.0                    0.0   \n",
       "3  0.0               0.0          0.0        0.0                    0.0   \n",
       "4  NaN               NaN          NaN        NaN                    NaN   \n",
       "\n",
       "   Everyday_life  Geography  History   IT  Language_and_literature  \\\n",
       "0            NaN        NaN      NaN  NaN                      NaN   \n",
       "1            0.0        1.0      1.0  0.0                      1.0   \n",
       "2            0.0        0.0      0.0  0.0                      0.0   \n",
       "3            0.0        0.0      0.0  0.0                      0.0   \n",
       "4            NaN        NaN      NaN  NaN                      NaN   \n",
       "\n",
       "   Mathematics  Music  People  Religion  Science  \n",
       "0          NaN    NaN     NaN       NaN      NaN  \n",
       "1          0.0    0.0     1.0       0.0      1.0  \n",
       "2          0.0    0.0     0.0       0.0      0.0  \n",
       "3          0.0    0.0     0.0       0.0      0.0  \n",
       "4          NaN    NaN     NaN       NaN      NaN  "
      ]
     },
     "execution_count": 46,
     "metadata": {},
     "output_type": "execute_result"
    }
   ],
   "source": [
    "df_hubs.head()"
   ]
  },
  {
   "cell_type": "code",
   "execution_count": 67,
   "metadata": {},
   "outputs": [],
   "source": [
    "# Add a column for each category in categories_ha\n",
    "for category in categories:\n",
    "    articles_in_category = dataframes[\"categories\"].loc[dataframes[\"categories\"][1] == category, 'article']\n",
    "    df_hubs[category] = np.where(df_hubs['article_names'].isin(articles_in_category), 1, 0)"
   ]
  },
  {
   "cell_type": "code",
   "execution_count": 68,
   "metadata": {},
   "outputs": [
    {
     "data": {
      "text/html": [
       "<div>\n",
       "<style scoped>\n",
       "    .dataframe tbody tr th:only-of-type {\n",
       "        vertical-align: middle;\n",
       "    }\n",
       "\n",
       "    .dataframe tbody tr th {\n",
       "        vertical-align: top;\n",
       "    }\n",
       "\n",
       "    .dataframe thead th {\n",
       "        text-align: right;\n",
       "    }\n",
       "</style>\n",
       "<table border=\"1\" class=\"dataframe\">\n",
       "  <thead>\n",
       "    <tr style=\"text-align: right;\">\n",
       "      <th></th>\n",
       "      <th>article_names</th>\n",
       "      <th>source_counts</th>\n",
       "      <th>target_counts</th>\n",
       "      <th>mean_shortest_path</th>\n",
       "      <th>Art</th>\n",
       "      <th>Business_Studies</th>\n",
       "      <th>Citizenship</th>\n",
       "      <th>Countries</th>\n",
       "      <th>Design_and_Technology</th>\n",
       "      <th>Everyday_life</th>\n",
       "      <th>Geography</th>\n",
       "      <th>History</th>\n",
       "      <th>IT</th>\n",
       "      <th>Language_and_literature</th>\n",
       "      <th>Mathematics</th>\n",
       "      <th>Music</th>\n",
       "      <th>People</th>\n",
       "      <th>Religion</th>\n",
       "      <th>Science</th>\n",
       "    </tr>\n",
       "  </thead>\n",
       "  <tbody>\n",
       "    <tr>\n",
       "      <th>0</th>\n",
       "      <td>Áedán_mac_Gabráin</td>\n",
       "      <td>11</td>\n",
       "      <td>0</td>\n",
       "      <td>3.395464</td>\n",
       "      <td>0</td>\n",
       "      <td>0</td>\n",
       "      <td>0</td>\n",
       "      <td>0</td>\n",
       "      <td>0</td>\n",
       "      <td>0</td>\n",
       "      <td>0</td>\n",
       "      <td>1</td>\n",
       "      <td>0</td>\n",
       "      <td>0</td>\n",
       "      <td>0</td>\n",
       "      <td>0</td>\n",
       "      <td>1</td>\n",
       "      <td>0</td>\n",
       "      <td>0</td>\n",
       "    </tr>\n",
       "    <tr>\n",
       "      <th>1</th>\n",
       "      <td>Åland</td>\n",
       "      <td>19</td>\n",
       "      <td>0</td>\n",
       "      <td>3.127959</td>\n",
       "      <td>0</td>\n",
       "      <td>0</td>\n",
       "      <td>0</td>\n",
       "      <td>1</td>\n",
       "      <td>0</td>\n",
       "      <td>0</td>\n",
       "      <td>1</td>\n",
       "      <td>0</td>\n",
       "      <td>0</td>\n",
       "      <td>0</td>\n",
       "      <td>0</td>\n",
       "      <td>0</td>\n",
       "      <td>0</td>\n",
       "      <td>0</td>\n",
       "      <td>0</td>\n",
       "    </tr>\n",
       "    <tr>\n",
       "      <th>2</th>\n",
       "      <td>Édouard_Manet</td>\n",
       "      <td>20</td>\n",
       "      <td>0</td>\n",
       "      <td>3.171598</td>\n",
       "      <td>0</td>\n",
       "      <td>0</td>\n",
       "      <td>0</td>\n",
       "      <td>0</td>\n",
       "      <td>0</td>\n",
       "      <td>0</td>\n",
       "      <td>0</td>\n",
       "      <td>0</td>\n",
       "      <td>0</td>\n",
       "      <td>0</td>\n",
       "      <td>0</td>\n",
       "      <td>0</td>\n",
       "      <td>1</td>\n",
       "      <td>0</td>\n",
       "      <td>0</td>\n",
       "    </tr>\n",
       "    <tr>\n",
       "      <th>3</th>\n",
       "      <td>Éire</td>\n",
       "      <td>8</td>\n",
       "      <td>0</td>\n",
       "      <td>3.325937</td>\n",
       "      <td>0</td>\n",
       "      <td>0</td>\n",
       "      <td>0</td>\n",
       "      <td>1</td>\n",
       "      <td>0</td>\n",
       "      <td>0</td>\n",
       "      <td>1</td>\n",
       "      <td>0</td>\n",
       "      <td>0</td>\n",
       "      <td>0</td>\n",
       "      <td>0</td>\n",
       "      <td>0</td>\n",
       "      <td>0</td>\n",
       "      <td>0</td>\n",
       "      <td>0</td>\n",
       "    </tr>\n",
       "    <tr>\n",
       "      <th>4</th>\n",
       "      <td>Óengus_I_of_the_Picts</td>\n",
       "      <td>10</td>\n",
       "      <td>0</td>\n",
       "      <td>3.386834</td>\n",
       "      <td>0</td>\n",
       "      <td>0</td>\n",
       "      <td>0</td>\n",
       "      <td>0</td>\n",
       "      <td>0</td>\n",
       "      <td>0</td>\n",
       "      <td>0</td>\n",
       "      <td>1</td>\n",
       "      <td>0</td>\n",
       "      <td>0</td>\n",
       "      <td>0</td>\n",
       "      <td>0</td>\n",
       "      <td>1</td>\n",
       "      <td>0</td>\n",
       "      <td>0</td>\n",
       "    </tr>\n",
       "  </tbody>\n",
       "</table>\n",
       "</div>"
      ],
      "text/plain": [
       "           article_names  source_counts  target_counts  mean_shortest_path  \\\n",
       "0      Áedán_mac_Gabráin             11              0            3.395464   \n",
       "1                  Åland             19              0            3.127959   \n",
       "2          Édouard_Manet             20              0            3.171598   \n",
       "3                   Éire              8              0            3.325937   \n",
       "4  Óengus_I_of_the_Picts             10              0            3.386834   \n",
       "\n",
       "   Art  Business_Studies  Citizenship  Countries  Design_and_Technology  \\\n",
       "0    0                 0            0          0                      0   \n",
       "1    0                 0            0          1                      0   \n",
       "2    0                 0            0          0                      0   \n",
       "3    0                 0            0          1                      0   \n",
       "4    0                 0            0          0                      0   \n",
       "\n",
       "   Everyday_life  Geography  History  IT  Language_and_literature  \\\n",
       "0              0          0        1   0                        0   \n",
       "1              0          1        0   0                        0   \n",
       "2              0          0        0   0                        0   \n",
       "3              0          1        0   0                        0   \n",
       "4              0          0        1   0                        0   \n",
       "\n",
       "   Mathematics  Music  People  Religion  Science  \n",
       "0            0      0       1         0        0  \n",
       "1            0      0       0         0        0  \n",
       "2            0      0       1         0        0  \n",
       "3            0      0       0         0        0  \n",
       "4            0      0       1         0        0  "
      ]
     },
     "execution_count": 68,
     "metadata": {},
     "output_type": "execute_result"
    }
   ],
   "source": [
    "df_hubs.head()"
   ]
  },
  {
   "cell_type": "markdown",
   "metadata": {},
   "source": [
    "### Calculating some basic statistics\n",
    "\n",
    "We need to show:\\\n",
    "That you understand what’s in the data (formats, distributions, missing values, correlations, etc.) \\\n",
    "That you considered ways to enrich, filter, transform the data according to your needs."
   ]
  },
  {
   "cell_type": "code",
   "execution_count": 73,
   "metadata": {},
   "outputs": [
    {
     "data": {
      "text/plain": [
       "<Axes: >"
      ]
     },
     "execution_count": 73,
     "metadata": {},
     "output_type": "execute_result"
    },
    {
     "data": {
      "image/png": "[encoded data removed]",
      "text/plain": [
       "<Figure size 640x480 with 1 Axes>"
      ]
     },
     "metadata": {},
     "output_type": "display_data"
    }
   ],
   "source": [
    "#Plotting distribution of links on wikipages\n",
    "df_hubs[\"source_counts\"].hist(bins = 40)"
   ]
  },
  {
   "cell_type": "code",
   "execution_count": 74,
   "metadata": {},
   "outputs": [
    {
     "data": {
      "text/plain": [
       "<Axes: >"
      ]
     },
     "execution_count": 74,
     "metadata": {},
     "output_type": "execute_result"
    },
    {
     "data": {
      "image/png": "[encoded data removed]",
      "text/plain": [
       "<Figure size 640x480 with 1 Axes>"
      ]
     },
     "metadata": {},
     "output_type": "display_data"
    }
   ],
   "source": [
    "#Plotting distribution of links to wikipages\n",
    "df_hubs[\"target_counts\"].hist(bins = 40)"
   ]
  },
  {
   "cell_type": "code",
   "execution_count": null,
   "metadata": {},
   "outputs": [
    {
     "data": {
      "text/plain": [
       "<Axes: >"
      ]
     },
     "execution_count": 75,
     "metadata": {},
     "output_type": "execute_result"
    },
    {
     "data": {
      "image/png": "[encoded data removed]",
      "text/plain": [
       "<Figure size 640x480 with 1 Axes>"
      ]
     },
     "metadata": {},
     "output_type": "display_data"
    }
   ],
   "source": [
    "#Do in reverse! \n",
    "df_hubs[\"mean_shortest_path\"].hist(bins = 40)\n",
    "\n",
    "#Boxplot? "
   ]
  },
  {
   "cell_type": "code",
   "execution_count": 78,
   "metadata": {},
   "outputs": [
    {
     "data": {
      "text/plain": [
       "<Axes: >"
      ]
     },
     "execution_count": 78,
     "metadata": {},
     "output_type": "execute_result"
    },
    {
     "data": {
      "image/png": "[encoded data removed]",
      "text/plain": [
       "<Figure size 640x480 with 1 Axes>"
      ]
     },
     "metadata": {},
     "output_type": "display_data"
    }
   ],
   "source": [
    "df_hubs[\"one_count\"].hist(bins = 40)"
   ]
  },
  {
   "cell_type": "code",
   "execution_count": null,
   "metadata": {},
   "outputs": [
    {
     "data": {
      "image/png": "[encoded data removed]",
      "text/plain": [
       "<Figure size 1200x600 with 1 Axes>"
      ]
     },
     "metadata": {},
     "output_type": "display_data"
    }
   ],
   "source": [
    "#Compare most common articles in wikipidia\n",
    "#With most visited articles in the game\n",
    "\n",
    "fig = plt.figure(figsize=(12, 6))\n",
    "dataframes[\"categories\"][1].hist()\n",
    "plt.xticks(rotation=45, ha='right')\n",
    "plt.show()"
   ]
  },
  {
   "cell_type": "markdown",
   "metadata": {},
   "source": [
    "### Plotting scatter plot"
   ]
  },
  {
   "cell_type": "code",
   "execution_count": 83,
   "metadata": {},
   "outputs": [
    {
     "data": {
      "text/html": [
       "<div>\n",
       "<style scoped>\n",
       "    .dataframe tbody tr th:only-of-type {\n",
       "        vertical-align: middle;\n",
       "    }\n",
       "\n",
       "    .dataframe tbody tr th {\n",
       "        vertical-align: top;\n",
       "    }\n",
       "\n",
       "    .dataframe thead th {\n",
       "        text-align: right;\n",
       "    }\n",
       "</style>\n",
       "<table border=\"1\" class=\"dataframe\">\n",
       "  <thead>\n",
       "    <tr style=\"text-align: right;\">\n",
       "      <th></th>\n",
       "      <th>article_names</th>\n",
       "      <th>source_counts</th>\n",
       "      <th>target_counts</th>\n",
       "      <th>mean_shortest_path</th>\n",
       "      <th>Art</th>\n",
       "      <th>Business_Studies</th>\n",
       "      <th>Citizenship</th>\n",
       "      <th>Countries</th>\n",
       "      <th>Design_and_Technology</th>\n",
       "      <th>Everyday_life</th>\n",
       "      <th>Geography</th>\n",
       "      <th>History</th>\n",
       "      <th>IT</th>\n",
       "      <th>Language_and_literature</th>\n",
       "      <th>Mathematics</th>\n",
       "      <th>Music</th>\n",
       "      <th>People</th>\n",
       "      <th>Religion</th>\n",
       "      <th>Science</th>\n",
       "      <th>subject_count</th>\n",
       "    </tr>\n",
       "  </thead>\n",
       "  <tbody>\n",
       "    <tr>\n",
       "      <th>0</th>\n",
       "      <td>Áedán_mac_Gabráin</td>\n",
       "      <td>11</td>\n",
       "      <td>0</td>\n",
       "      <td>3.395464</td>\n",
       "      <td>0</td>\n",
       "      <td>0</td>\n",
       "      <td>0</td>\n",
       "      <td>0</td>\n",
       "      <td>0</td>\n",
       "      <td>0</td>\n",
       "      <td>0</td>\n",
       "      <td>1</td>\n",
       "      <td>0</td>\n",
       "      <td>0</td>\n",
       "      <td>0</td>\n",
       "      <td>0</td>\n",
       "      <td>1</td>\n",
       "      <td>0</td>\n",
       "      <td>0</td>\n",
       "      <td>2</td>\n",
       "    </tr>\n",
       "    <tr>\n",
       "      <th>1</th>\n",
       "      <td>Åland</td>\n",
       "      <td>19</td>\n",
       "      <td>0</td>\n",
       "      <td>3.127959</td>\n",
       "      <td>0</td>\n",
       "      <td>0</td>\n",
       "      <td>0</td>\n",
       "      <td>1</td>\n",
       "      <td>0</td>\n",
       "      <td>0</td>\n",
       "      <td>1</td>\n",
       "      <td>0</td>\n",
       "      <td>0</td>\n",
       "      <td>0</td>\n",
       "      <td>0</td>\n",
       "      <td>0</td>\n",
       "      <td>0</td>\n",
       "      <td>0</td>\n",
       "      <td>0</td>\n",
       "      <td>2</td>\n",
       "    </tr>\n",
       "    <tr>\n",
       "      <th>2</th>\n",
       "      <td>Édouard_Manet</td>\n",
       "      <td>20</td>\n",
       "      <td>0</td>\n",
       "      <td>3.171598</td>\n",
       "      <td>0</td>\n",
       "      <td>0</td>\n",
       "      <td>0</td>\n",
       "      <td>0</td>\n",
       "      <td>0</td>\n",
       "      <td>0</td>\n",
       "      <td>0</td>\n",
       "      <td>0</td>\n",
       "      <td>0</td>\n",
       "      <td>0</td>\n",
       "      <td>0</td>\n",
       "      <td>0</td>\n",
       "      <td>1</td>\n",
       "      <td>0</td>\n",
       "      <td>0</td>\n",
       "      <td>1</td>\n",
       "    </tr>\n",
       "    <tr>\n",
       "      <th>3</th>\n",
       "      <td>Éire</td>\n",
       "      <td>8</td>\n",
       "      <td>0</td>\n",
       "      <td>3.325937</td>\n",
       "      <td>0</td>\n",
       "      <td>0</td>\n",
       "      <td>0</td>\n",
       "      <td>1</td>\n",
       "      <td>0</td>\n",
       "      <td>0</td>\n",
       "      <td>1</td>\n",
       "      <td>0</td>\n",
       "      <td>0</td>\n",
       "      <td>0</td>\n",
       "      <td>0</td>\n",
       "      <td>0</td>\n",
       "      <td>0</td>\n",
       "      <td>0</td>\n",
       "      <td>0</td>\n",
       "      <td>2</td>\n",
       "    </tr>\n",
       "    <tr>\n",
       "      <th>4</th>\n",
       "      <td>Óengus_I_of_the_Picts</td>\n",
       "      <td>10</td>\n",
       "      <td>0</td>\n",
       "      <td>3.386834</td>\n",
       "      <td>0</td>\n",
       "      <td>0</td>\n",
       "      <td>0</td>\n",
       "      <td>0</td>\n",
       "      <td>0</td>\n",
       "      <td>0</td>\n",
       "      <td>0</td>\n",
       "      <td>1</td>\n",
       "      <td>0</td>\n",
       "      <td>0</td>\n",
       "      <td>0</td>\n",
       "      <td>0</td>\n",
       "      <td>1</td>\n",
       "      <td>0</td>\n",
       "      <td>0</td>\n",
       "      <td>2</td>\n",
       "    </tr>\n",
       "  </tbody>\n",
       "</table>\n",
       "</div>"
      ],
      "text/plain": [
       "           article_names  source_counts  target_counts  mean_shortest_path  \\\n",
       "0      Áedán_mac_Gabráin             11              0            3.395464   \n",
       "1                  Åland             19              0            3.127959   \n",
       "2          Édouard_Manet             20              0            3.171598   \n",
       "3                   Éire              8              0            3.325937   \n",
       "4  Óengus_I_of_the_Picts             10              0            3.386834   \n",
       "\n",
       "   Art  Business_Studies  Citizenship  Countries  Design_and_Technology  \\\n",
       "0    0                 0            0          0                      0   \n",
       "1    0                 0            0          1                      0   \n",
       "2    0                 0            0          0                      0   \n",
       "3    0                 0            0          1                      0   \n",
       "4    0                 0            0          0                      0   \n",
       "\n",
       "   Everyday_life  Geography  History  IT  Language_and_literature  \\\n",
       "0              0          0        1   0                        0   \n",
       "1              0          1        0   0                        0   \n",
       "2              0          0        0   0                        0   \n",
       "3              0          1        0   0                        0   \n",
       "4              0          0        1   0                        0   \n",
       "\n",
       "   Mathematics  Music  People  Religion  Science  subject_count  \n",
       "0            0      0       1         0        0              2  \n",
       "1            0      0       0         0        0              2  \n",
       "2            0      0       1         0        0              1  \n",
       "3            0      0       0         0        0              2  \n",
       "4            0      0       1         0        0              2  "
      ]
     },
     "execution_count": 83,
     "metadata": {},
     "output_type": "execute_result"
    }
   ],
   "source": [
    "#print(categories)\n",
    "df_hubs.head()"
   ]
  },
  {
   "cell_type": "code",
   "execution_count": 101,
   "metadata": {},
   "outputs": [
    {
     "data": {
      "image/png": "[encoded data removed]",
      "text/plain": [
       "<Figure size 1200x800 with 1 Axes>"
      ]
     },
     "metadata": {},
     "output_type": "display_data"
    }
   ],
   "source": [
    "# Plot\n",
    "plt.figure(figsize=(12, 8))\n",
    "sns.scatterplot(\n",
    "    data=df_hubs,\n",
    "    x='source_counts',\n",
    "    y='target_counts',\n",
    "    size='mean_shortest_path',\n",
    "    sizes=(2, 400)\n",
    ")\n",
    "\n",
    "#plt.xscale('log')\n",
    "#plt.yscale('log')\n",
    "plt.title('Scatter Plot of Articles')\n",
    "plt.xlabel('Source Counts')\n",
    "plt.ylabel('Target Counts')\n",
    "plt.grid(True)\n",
    "plt.show()"
   ]
  },
  {
   "cell_type": "markdown",
   "metadata": {},
   "source": [
    "### Exploring Shortest path data"
   ]
  },
  {
   "cell_type": "code",
   "execution_count": 69,
   "metadata": {},
   "outputs": [
    {
     "data": {
      "text/html": [
       "<div>\n",
       "<style scoped>\n",
       "    .dataframe tbody tr th:only-of-type {\n",
       "        vertical-align: middle;\n",
       "    }\n",
       "\n",
       "    .dataframe tbody tr th {\n",
       "        vertical-align: top;\n",
       "    }\n",
       "\n",
       "    .dataframe thead th {\n",
       "        text-align: right;\n",
       "    }\n",
       "</style>\n",
       "<table border=\"1\" class=\"dataframe\">\n",
       "  <thead>\n",
       "    <tr style=\"text-align: right;\">\n",
       "      <th></th>\n",
       "      <th>article_names</th>\n",
       "      <th>source_counts</th>\n",
       "      <th>target_counts</th>\n",
       "      <th>mean_shortest_path</th>\n",
       "      <th>Art</th>\n",
       "      <th>Business_Studies</th>\n",
       "      <th>Citizenship</th>\n",
       "      <th>Countries</th>\n",
       "      <th>Design_and_Technology</th>\n",
       "      <th>Everyday_life</th>\n",
       "      <th>Geography</th>\n",
       "      <th>History</th>\n",
       "      <th>IT</th>\n",
       "      <th>Language_and_literature</th>\n",
       "      <th>Mathematics</th>\n",
       "      <th>Music</th>\n",
       "      <th>People</th>\n",
       "      <th>Religion</th>\n",
       "      <th>Science</th>\n",
       "    </tr>\n",
       "  </thead>\n",
       "  <tbody>\n",
       "    <tr>\n",
       "      <th>0</th>\n",
       "      <td>Áedán_mac_Gabráin</td>\n",
       "      <td>11</td>\n",
       "      <td>0</td>\n",
       "      <td>3.395464</td>\n",
       "      <td>0</td>\n",
       "      <td>0</td>\n",
       "      <td>0</td>\n",
       "      <td>0</td>\n",
       "      <td>0</td>\n",
       "      <td>0</td>\n",
       "      <td>0</td>\n",
       "      <td>1</td>\n",
       "      <td>0</td>\n",
       "      <td>0</td>\n",
       "      <td>0</td>\n",
       "      <td>0</td>\n",
       "      <td>1</td>\n",
       "      <td>0</td>\n",
       "      <td>0</td>\n",
       "    </tr>\n",
       "    <tr>\n",
       "      <th>1</th>\n",
       "      <td>Åland</td>\n",
       "      <td>19</td>\n",
       "      <td>0</td>\n",
       "      <td>3.127959</td>\n",
       "      <td>0</td>\n",
       "      <td>0</td>\n",
       "      <td>0</td>\n",
       "      <td>1</td>\n",
       "      <td>0</td>\n",
       "      <td>0</td>\n",
       "      <td>1</td>\n",
       "      <td>0</td>\n",
       "      <td>0</td>\n",
       "      <td>0</td>\n",
       "      <td>0</td>\n",
       "      <td>0</td>\n",
       "      <td>0</td>\n",
       "      <td>0</td>\n",
       "      <td>0</td>\n",
       "    </tr>\n",
       "    <tr>\n",
       "      <th>2</th>\n",
       "      <td>Édouard_Manet</td>\n",
       "      <td>20</td>\n",
       "      <td>0</td>\n",
       "      <td>3.171598</td>\n",
       "      <td>0</td>\n",
       "      <td>0</td>\n",
       "      <td>0</td>\n",
       "      <td>0</td>\n",
       "      <td>0</td>\n",
       "      <td>0</td>\n",
       "      <td>0</td>\n",
       "      <td>0</td>\n",
       "      <td>0</td>\n",
       "      <td>0</td>\n",
       "      <td>0</td>\n",
       "      <td>0</td>\n",
       "      <td>1</td>\n",
       "      <td>0</td>\n",
       "      <td>0</td>\n",
       "    </tr>\n",
       "    <tr>\n",
       "      <th>3</th>\n",
       "      <td>Éire</td>\n",
       "      <td>8</td>\n",
       "      <td>0</td>\n",
       "      <td>3.325937</td>\n",
       "      <td>0</td>\n",
       "      <td>0</td>\n",
       "      <td>0</td>\n",
       "      <td>1</td>\n",
       "      <td>0</td>\n",
       "      <td>0</td>\n",
       "      <td>1</td>\n",
       "      <td>0</td>\n",
       "      <td>0</td>\n",
       "      <td>0</td>\n",
       "      <td>0</td>\n",
       "      <td>0</td>\n",
       "      <td>0</td>\n",
       "      <td>0</td>\n",
       "      <td>0</td>\n",
       "    </tr>\n",
       "    <tr>\n",
       "      <th>4</th>\n",
       "      <td>Óengus_I_of_the_Picts</td>\n",
       "      <td>10</td>\n",
       "      <td>0</td>\n",
       "      <td>3.386834</td>\n",
       "      <td>0</td>\n",
       "      <td>0</td>\n",
       "      <td>0</td>\n",
       "      <td>0</td>\n",
       "      <td>0</td>\n",
       "      <td>0</td>\n",
       "      <td>0</td>\n",
       "      <td>1</td>\n",
       "      <td>0</td>\n",
       "      <td>0</td>\n",
       "      <td>0</td>\n",
       "      <td>0</td>\n",
       "      <td>1</td>\n",
       "      <td>0</td>\n",
       "      <td>0</td>\n",
       "    </tr>\n",
       "  </tbody>\n",
       "</table>\n",
       "</div>"
      ],
      "text/plain": [
       "           article_names  source_counts  target_counts  mean_shortest_path  \\\n",
       "0      Áedán_mac_Gabráin             11              0            3.395464   \n",
       "1                  Åland             19              0            3.127959   \n",
       "2          Édouard_Manet             20              0            3.171598   \n",
       "3                   Éire              8              0            3.325937   \n",
       "4  Óengus_I_of_the_Picts             10              0            3.386834   \n",
       "\n",
       "   Art  Business_Studies  Citizenship  Countries  Design_and_Technology  \\\n",
       "0    0                 0            0          0                      0   \n",
       "1    0                 0            0          1                      0   \n",
       "2    0                 0            0          0                      0   \n",
       "3    0                 0            0          1                      0   \n",
       "4    0                 0            0          0                      0   \n",
       "\n",
       "   Everyday_life  Geography  History  IT  Language_and_literature  \\\n",
       "0              0          0        1   0                        0   \n",
       "1              0          1        0   0                        0   \n",
       "2              0          0        0   0                        0   \n",
       "3              0          1        0   0                        0   \n",
       "4              0          0        1   0                        0   \n",
       "\n",
       "   Mathematics  Music  People  Religion  Science  \n",
       "0            0      0       1         0        0  \n",
       "1            0      0       0         0        0  \n",
       "2            0      0       1         0        0  \n",
       "3            0      0       0         0        0  \n",
       "4            0      0       1         0        0  "
      ]
     },
     "execution_count": 69,
     "metadata": {},
     "output_type": "execute_result"
    }
   ],
   "source": [
    "df_hubs.head()"
   ]
  },
  {
   "cell_type": "code",
   "execution_count": 33,
   "metadata": {},
   "outputs": [
    {
     "name": "stdout",
     "output_type": "stream",
     "text": [
      "[441, 970, 1210, 1231, 1237, 1257, 2351, 2530, 2543, 3108, 3352, 3645, 3928, 4289, 4333, 4480, 4545]\n"
     ]
    }
   ],
   "source": [
    "min_value = df_expanded_mean.min()\n",
    "\n",
    "min_indices = df_expanded.index[df_expanded_mean == min_value].tolist()\n",
    "\n",
    "print(min_indices)"
   ]
  },
  {
   "cell_type": "code",
   "execution_count": 35,
   "metadata": {},
   "outputs": [],
   "source": [
    "#I think some of the articles with almost no shortest path are only connected with 1 other article\n",
    "nan_count = df_expanded.iloc[min_indices].apply(count_nans_in_list)\n",
    "one_count = df_expanded.iloc[min_indices].apply(count_ones_in_list)"
   ]
  },
  {
   "cell_type": "code",
   "execution_count": 36,
   "metadata": {},
   "outputs": [
    {
     "name": "stdout",
     "output_type": "stream",
     "text": [
      "Printing articles with min distance 0.0\n"
     ]
    },
    {
     "data": {
      "text/html": [
       "<div>\n",
       "<style scoped>\n",
       "    .dataframe tbody tr th:only-of-type {\n",
       "        vertical-align: middle;\n",
       "    }\n",
       "\n",
       "    .dataframe tbody tr th {\n",
       "        vertical-align: top;\n",
       "    }\n",
       "\n",
       "    .dataframe thead th {\n",
       "        text-align: right;\n",
       "    }\n",
       "</style>\n",
       "<table border=\"1\" class=\"dataframe\">\n",
       "  <thead>\n",
       "    <tr style=\"text-align: right;\">\n",
       "      <th></th>\n",
       "      <th>article_name</th>\n",
       "    </tr>\n",
       "  </thead>\n",
       "  <tbody>\n",
       "    <tr>\n",
       "      <th>441</th>\n",
       "      <td>Badugi</td>\n",
       "    </tr>\n",
       "    <tr>\n",
       "      <th>970</th>\n",
       "      <td>Color_Graphics_Adapter</td>\n",
       "    </tr>\n",
       "    <tr>\n",
       "      <th>1210</th>\n",
       "      <td>Directdebit</td>\n",
       "    </tr>\n",
       "    <tr>\n",
       "      <th>1231</th>\n",
       "      <td>Donation</td>\n",
       "    </tr>\n",
       "    <tr>\n",
       "      <th>1237</th>\n",
       "      <td>Douglas_DC-4</td>\n",
       "    </tr>\n",
       "    <tr>\n",
       "      <th>1257</th>\n",
       "      <td>Duchenne_muscular_dystrophy</td>\n",
       "    </tr>\n",
       "    <tr>\n",
       "      <th>2351</th>\n",
       "      <td>Klinefelter's_syndrome</td>\n",
       "    </tr>\n",
       "    <tr>\n",
       "      <th>2530</th>\n",
       "      <td>Local_community</td>\n",
       "    </tr>\n",
       "    <tr>\n",
       "      <th>2543</th>\n",
       "      <td>Lone_Wolf_(gamebooks)</td>\n",
       "    </tr>\n",
       "    <tr>\n",
       "      <th>3108</th>\n",
       "      <td>Osteomalacia</td>\n",
       "    </tr>\n",
       "    <tr>\n",
       "      <th>3352</th>\n",
       "      <td>Private_Peaceful</td>\n",
       "    </tr>\n",
       "    <tr>\n",
       "      <th>3645</th>\n",
       "      <td>Schatzki_ring</td>\n",
       "    </tr>\n",
       "    <tr>\n",
       "      <th>3928</th>\n",
       "      <td>Suikinkutsu</td>\n",
       "    </tr>\n",
       "    <tr>\n",
       "      <th>4289</th>\n",
       "      <td>Underground_(stories)</td>\n",
       "    </tr>\n",
       "    <tr>\n",
       "      <th>4333</th>\n",
       "      <td>Vacutainer</td>\n",
       "    </tr>\n",
       "    <tr>\n",
       "      <th>4480</th>\n",
       "      <td>Wikipedia_Text_of_the_GNU_Free_Documentation_L...</td>\n",
       "    </tr>\n",
       "    <tr>\n",
       "      <th>4545</th>\n",
       "      <td>Wowpurchase</td>\n",
       "    </tr>\n",
       "  </tbody>\n",
       "</table>\n",
       "</div>"
      ],
      "text/plain": [
       "                                           article_name\n",
       "441                                              Badugi\n",
       "970                              Color_Graphics_Adapter\n",
       "1210                                        Directdebit\n",
       "1231                                           Donation\n",
       "1237                                       Douglas_DC-4\n",
       "1257                        Duchenne_muscular_dystrophy\n",
       "2351                             Klinefelter's_syndrome\n",
       "2530                                    Local_community\n",
       "2543                              Lone_Wolf_(gamebooks)\n",
       "3108                                       Osteomalacia\n",
       "3352                                   Private_Peaceful\n",
       "3645                                      Schatzki_ring\n",
       "3928                                        Suikinkutsu\n",
       "4289                              Underground_(stories)\n",
       "4333                                         Vacutainer\n",
       "4480  Wikipedia_Text_of_the_GNU_Free_Documentation_L...\n",
       "4545                                        Wowpurchase"
      ]
     },
     "execution_count": 36,
     "metadata": {},
     "output_type": "execute_result"
    }
   ],
   "source": [
    "print('Printing articles with min distance 0.0')\n",
    "dataframes[\"articles\"].iloc[min_indices]"
   ]
  },
  {
   "cell_type": "markdown",
   "metadata": {},
   "source": [
    "This menas these articles have no connection to other articles! Not that they have short distances to all other articles!"
   ]
  },
  {
   "cell_type": "code",
   "execution_count": 37,
   "metadata": {},
   "outputs": [],
   "source": [
    "df_expanded = df_expanded.drop(min_indices, axis = 0)\n",
    "expanded_mean =  df_expanded.apply(lambda x: np.nanmean(x))"
   ]
  },
  {
   "cell_type": "code",
   "execution_count": 39,
   "metadata": {},
   "outputs": [],
   "source": [
    "expanded_mean = expanded_mean.sort_values(ascending=True)\n",
    "articles_small_mean = dataframes[\"articles\"].iloc[expanded_mean[0:20].index]\n"
   ]
  },
  {
   "cell_type": "code",
   "execution_count": 40,
   "metadata": {},
   "outputs": [
    {
     "data": {
      "text/html": [
       "<div>\n",
       "<style scoped>\n",
       "    .dataframe tbody tr th:only-of-type {\n",
       "        vertical-align: middle;\n",
       "    }\n",
       "\n",
       "    .dataframe tbody tr th {\n",
       "        vertical-align: top;\n",
       "    }\n",
       "\n",
       "    .dataframe thead th {\n",
       "        text-align: right;\n",
       "    }\n",
       "</style>\n",
       "<table border=\"1\" class=\"dataframe\">\n",
       "  <thead>\n",
       "    <tr style=\"text-align: right;\">\n",
       "      <th></th>\n",
       "      <th>article_name</th>\n",
       "    </tr>\n",
       "  </thead>\n",
       "  <tbody>\n",
       "    <tr>\n",
       "      <th>1600</th>\n",
       "      <td>Friend_Directdebit</td>\n",
       "    </tr>\n",
       "    <tr>\n",
       "      <th>3849</th>\n",
       "      <td>Sponsorship_Directdebit</td>\n",
       "    </tr>\n",
       "    <tr>\n",
       "      <th>4297</th>\n",
       "      <td>United_States</td>\n",
       "    </tr>\n",
       "    <tr>\n",
       "      <th>39</th>\n",
       "      <td>21st_century</td>\n",
       "    </tr>\n",
       "    <tr>\n",
       "      <th>1989</th>\n",
       "      <td>History_of_the_world</td>\n",
       "    </tr>\n",
       "    <tr>\n",
       "      <th>331</th>\n",
       "      <td>Argentina</td>\n",
       "    </tr>\n",
       "    <tr>\n",
       "      <th>24</th>\n",
       "      <td>19th_century</td>\n",
       "    </tr>\n",
       "    <tr>\n",
       "      <th>4293</th>\n",
       "      <td>United_Kingdom</td>\n",
       "    </tr>\n",
       "    <tr>\n",
       "      <th>1247</th>\n",
       "      <td>Driving_on_the_left_or_right</td>\n",
       "    </tr>\n",
       "    <tr>\n",
       "      <th>128</th>\n",
       "      <td>Africa</td>\n",
       "    </tr>\n",
       "    <tr>\n",
       "      <th>3966</th>\n",
       "      <td>Swastika</td>\n",
       "    </tr>\n",
       "    <tr>\n",
       "      <th>1694</th>\n",
       "      <td>Germany</td>\n",
       "    </tr>\n",
       "    <tr>\n",
       "      <th>2433</th>\n",
       "      <td>Lebanon</td>\n",
       "    </tr>\n",
       "    <tr>\n",
       "      <th>4424</th>\n",
       "      <td>Water</td>\n",
       "    </tr>\n",
       "    <tr>\n",
       "      <th>1433</th>\n",
       "      <td>Europe</td>\n",
       "    </tr>\n",
       "    <tr>\n",
       "      <th>694</th>\n",
       "      <td>British_Empire</td>\n",
       "    </tr>\n",
       "    <tr>\n",
       "      <th>2177</th>\n",
       "      <td>Israel</td>\n",
       "    </tr>\n",
       "    <tr>\n",
       "      <th>340</th>\n",
       "      <td>Armenia</td>\n",
       "    </tr>\n",
       "    <tr>\n",
       "      <th>2802</th>\n",
       "      <td>Modern_history</td>\n",
       "    </tr>\n",
       "    <tr>\n",
       "      <th>2505</th>\n",
       "      <td>List_of_countries_by_system_of_government</td>\n",
       "    </tr>\n",
       "  </tbody>\n",
       "</table>\n",
       "</div>"
      ],
      "text/plain": [
       "                                   article_name\n",
       "1600                         Friend_Directdebit\n",
       "3849                    Sponsorship_Directdebit\n",
       "4297                              United_States\n",
       "39                                 21st_century\n",
       "1989                       History_of_the_world\n",
       "331                                   Argentina\n",
       "24                                 19th_century\n",
       "4293                             United_Kingdom\n",
       "1247               Driving_on_the_left_or_right\n",
       "128                                      Africa\n",
       "3966                                   Swastika\n",
       "1694                                    Germany\n",
       "2433                                    Lebanon\n",
       "4424                                      Water\n",
       "1433                                     Europe\n",
       "694                              British_Empire\n",
       "2177                                     Israel\n",
       "340                                     Armenia\n",
       "2802                             Modern_history\n",
       "2505  List_of_countries_by_system_of_government"
      ]
     },
     "execution_count": 40,
     "metadata": {},
     "output_type": "execute_result"
    }
   ],
   "source": [
    "#Printing articles with smallest mean\n",
    "articles_small_mean"
   ]
  },
  {
   "cell_type": "markdown",
   "metadata": {},
   "source": [
    "Interesting results! Look at these/this more. They are not all overlapping with the most number of links. Some might be to not connected to other articles since we are using nan means. But other are probably because they are hubs!\n",
    "\n",
    "Hubs!?: \\\n",
    "United States \\\n",
    "21st_centry \\\n",
    "History of the world \\\n",
    "Argentina \\\n",
    "19_th century \\\n",
    "United Kingdom \\\n",
    "Driving to the left or right \\\n",
    "Africa \\\n",
    "Swastika..."
   ]
  },
  {
   "cell_type": "markdown",
   "metadata": {},
   "source": [
    "### Looking at the mean shortest path distance grouped by subject"
   ]
  },
  {
   "cell_type": "code",
   "execution_count": null,
   "metadata": {},
   "outputs": [],
   "source": []
  },
  {
   "cell_type": "markdown",
   "metadata": {},
   "source": [
    "### Calculate how many subjects a given article is connected to"
   ]
  },
  {
   "cell_type": "code",
   "execution_count": null,
   "metadata": {},
   "outputs": [],
   "source": []
  },
  {
   "cell_type": "markdown",
   "metadata": {},
   "source": [
    "### Calculate information gain by moving to a hub?"
   ]
  },
  {
   "cell_type": "code",
   "execution_count": null,
   "metadata": {},
   "outputs": [],
   "source": []
  },
  {
   "cell_type": "markdown",
   "metadata": {},
   "source": [
    "### Creating graph plot over links and giving color by subject\n",
    "\n",
    "Tried to create a connected graph visualization. Not very happy with it! Unsure if this is a good way to do it. \\\n",
    "Ideas:\n",
    "- Would be cool with a visualization that shows all pages with 1 link, 2 links, 3 links ... be removed \n",
    "- Can we look at the major hubs only?\n",
    "- Something density based?? \n"
   ]
  },
  {
   "cell_type": "code",
   "execution_count": null,
   "metadata": {},
   "outputs": [],
   "source": [
    "indices = dataframes[\"links\"].index[dataframes[\"links\"]['linkSource'] == 'Water'].tolist()\n",
    "print(indices)\n"
   ]
  },
  {
   "cell_type": "code",
   "execution_count": null,
   "metadata": {},
   "outputs": [],
   "source": [
    "G = nx.from_pandas_edgelist(dataframes[\"links\"].iloc[indices], source='linkSource', target='linkTarget')\n",
    "pos = nx.circular_layout(G)"
   ]
  },
  {
   "cell_type": "code",
   "execution_count": null,
   "metadata": {},
   "outputs": [],
   "source": [
    "print(dataframes[\"categories\"][1].unique())"
   ]
  },
  {
   "cell_type": "code",
   "execution_count": null,
   "metadata": {},
   "outputs": [],
   "source": [
    "color_list = [\n",
    "    'blue',        # History\n",
    "    'orange',      # People\n",
    "    'green',       # Countries\n",
    "    'red',         # Geography\n",
    "    'purple',      # Business Studies\n",
    "    'cyan',        # Science\n",
    "    'magenta',     # Everyday Life\n",
    "    'yellow',      # Design and Technology\n",
    "    'brown',       # Music\n",
    "    'pink',        # IT\n",
    "    'lightblue',   # Language and Literature\n",
    "    'lime',        # Mathematics\n",
    "    'gold',        # Religion\n",
    "    'violet',      # Art\n",
    "    'black'         # Citizenship\n",
    "]"
   ]
  },
  {
   "cell_type": "code",
   "execution_count": null,
   "metadata": {},
   "outputs": [],
   "source": [
    "#Note: Make so that articles with several subjects have a special color??\n",
    "color_map = {category: color for category, color in zip(dataframes[\"categories\"][1].unique(), color_list)}\n",
    "print(color_map)\n",
    "\n",
    "node_colors = []\n",
    "\n",
    "for node in G.nodes:\n",
    "\n",
    "    result = dataframes['categories'][dataframes['categories']['article'] == node][1]\n",
    "\n",
    "    if not result.empty:\n",
    "        category = result.values[0]  # Get the first category value\n",
    "        \n",
    "        node_colors.append(color_map.get(category, \"grey\"))\n",
    "    else:\n",
    "        node_colors.append(\"grey\")\n",
    "    "
   ]
  },
  {
   "cell_type": "code",
   "execution_count": null,
   "metadata": {},
   "outputs": [],
   "source": [
    "plt.figure(figsize=(12, 10))  # Adjust the figure size as needed\n",
    "\n",
    "# Adjust the spring layout\n",
    "pos = nx.spring_layout(G, seed=10, k=0.5)  # Increase 'k' to space out nodes more\n",
    "\n",
    "# Nodes\n",
    "nx.draw_networkx_nodes(G, pos, node_size=50, node_color=node_colors)  # Increase node size for visibility\n",
    "\n",
    "# Edges\n",
    "nx.draw_networkx_edges(G, pos, width=0.1)  # Increase edge width for better visibility\n",
    "\n",
    "# Create legend handles\n",
    "legend_handles = [mpatches.Patch(color=color_map[category], label=category) for category in color_map]\n",
    "\n",
    "# Add legend to the plot\n",
    "plt.legend(handles=legend_handles, title=\"Categories\", loc='upper right')\n",
    "\n",
    "# Layout adjustments\n",
    "ax = plt.gca()\n",
    "ax.margins(0.1)\n",
    "plt.axis(\"off\")\n",
    "plt.tight_layout()\n",
    "\n",
    "plt.show()"
   ]
  },
  {
   "cell_type": "code",
   "execution_count": null,
   "metadata": {},
   "outputs": [],
   "source": [
    "#Look at the density of the network!!"
   ]
  }
 ],
 "metadata": {
  "kernelspec": {
   "display_name": "ADA",
   "language": "python",
   "name": "python3"
  },
  "language_info": {
   "codemirror_mode": {
    "name": "ipython",
    "version": 3
   },
   "file_extension": ".py",
   "mimetype": "text/x-python",
   "name": "python",
   "nbconvert_exporter": "python",
   "pygments_lexer": "ipython3",
   "version": "3.11.9"
  }
 },
 "nbformat": 4,
 "nbformat_minor": 2
}
